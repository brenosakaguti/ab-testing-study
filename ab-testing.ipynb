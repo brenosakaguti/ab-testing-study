{
 "cells": [
  {
   "cell_type": "markdown",
   "id": "5056208c-48af-4f20-86bf-94078b201af6",
   "metadata": {},
   "source": [
    "In this notebook, we'll explore different forms of A/B testing"
   ]
  },
  {
   "cell_type": "markdown",
   "id": "1ff2a635-3e86-4d04-b953-5f8f88527a08",
   "metadata": {
    "tags": []
   },
   "source": [
    "# Imports"
   ]
  },
  {
   "cell_type": "code",
   "execution_count": 1,
   "id": "ea56918d-6ea3-4709-8cb0-ec4614e6ce49",
   "metadata": {},
   "outputs": [],
   "source": [
    "import pandas as pd\n",
    "import matplotlib.pyplot as plt\n",
    "import seaborn as sns\n",
    "import statsmodels.stats.api as sms\n",
    "import numpy as np\n",
    "from math import ceil\n",
    "from scipy.stats import mannwhitneyu"
   ]
  },
  {
   "cell_type": "markdown",
   "id": "d0eae4f9-54c2-4275-a54c-4256ff826e15",
   "metadata": {},
   "source": [
    "# Setup and Functions"
   ]
  },
  {
   "cell_type": "code",
   "execution_count": 2,
   "id": "d625bf87-cc8e-4bf3-b300-4bebc089dd6f",
   "metadata": {},
   "outputs": [],
   "source": [
    "sns.set_theme()"
   ]
  },
  {
   "cell_type": "markdown",
   "id": "9dc023e0-2018-4962-b751-67c92554ead1",
   "metadata": {},
   "source": [
    "# Test 1: Conversion Rate"
   ]
  },
  {
   "cell_type": "markdown",
   "id": "20685060-3108-45cb-a26a-8bbf7f2ed16a",
   "metadata": {},
   "source": [
    "This test is based on a website which recently changed its webpage design. The previous webpage had a conversion rate of 13%, and the desired effect is an increase in conversions to 15%."
   ]
  },
  {
   "cell_type": "markdown",
   "id": "9065cab5-d181-4fae-91f3-12181fd02a8f",
   "metadata": {},
   "source": [
    "## Data Preparation"
   ]
  },
  {
   "cell_type": "code",
   "execution_count": 3,
   "id": "6092ffdd-5271-41ef-b629-b1295f5084e3",
   "metadata": {},
   "outputs": [],
   "source": [
    "df1 = pd.read_csv(\"data/ab_data.csv\")"
   ]
  },
  {
   "cell_type": "code",
   "execution_count": 4,
   "id": "da2ff257-8b34-4a58-99b9-47ffee7c3862",
   "metadata": {},
   "outputs": [
    {
     "data": {
      "text/html": [
       "<div>\n",
       "<style scoped>\n",
       "    .dataframe tbody tr th:only-of-type {\n",
       "        vertical-align: middle;\n",
       "    }\n",
       "\n",
       "    .dataframe tbody tr th {\n",
       "        vertical-align: top;\n",
       "    }\n",
       "\n",
       "    .dataframe thead th {\n",
       "        text-align: right;\n",
       "    }\n",
       "</style>\n",
       "<table border=\"1\" class=\"dataframe\">\n",
       "  <thead>\n",
       "    <tr style=\"text-align: right;\">\n",
       "      <th></th>\n",
       "      <th>user_id</th>\n",
       "      <th>timestamp</th>\n",
       "      <th>group</th>\n",
       "      <th>landing_page</th>\n",
       "      <th>converted</th>\n",
       "    </tr>\n",
       "  </thead>\n",
       "  <tbody>\n",
       "    <tr>\n",
       "      <th>0</th>\n",
       "      <td>851104</td>\n",
       "      <td>2017-01-21 22:11:48.556739</td>\n",
       "      <td>control</td>\n",
       "      <td>old_page</td>\n",
       "      <td>0</td>\n",
       "    </tr>\n",
       "    <tr>\n",
       "      <th>1</th>\n",
       "      <td>804228</td>\n",
       "      <td>2017-01-12 08:01:45.159739</td>\n",
       "      <td>control</td>\n",
       "      <td>old_page</td>\n",
       "      <td>0</td>\n",
       "    </tr>\n",
       "    <tr>\n",
       "      <th>2</th>\n",
       "      <td>661590</td>\n",
       "      <td>2017-01-11 16:55:06.154213</td>\n",
       "      <td>treatment</td>\n",
       "      <td>new_page</td>\n",
       "      <td>0</td>\n",
       "    </tr>\n",
       "    <tr>\n",
       "      <th>3</th>\n",
       "      <td>853541</td>\n",
       "      <td>2017-01-08 18:28:03.143765</td>\n",
       "      <td>treatment</td>\n",
       "      <td>new_page</td>\n",
       "      <td>0</td>\n",
       "    </tr>\n",
       "    <tr>\n",
       "      <th>4</th>\n",
       "      <td>864975</td>\n",
       "      <td>2017-01-21 01:52:26.210827</td>\n",
       "      <td>control</td>\n",
       "      <td>old_page</td>\n",
       "      <td>1</td>\n",
       "    </tr>\n",
       "  </tbody>\n",
       "</table>\n",
       "</div>"
      ],
      "text/plain": [
       "   user_id                   timestamp      group landing_page  converted\n",
       "0   851104  2017-01-21 22:11:48.556739    control     old_page          0\n",
       "1   804228  2017-01-12 08:01:45.159739    control     old_page          0\n",
       "2   661590  2017-01-11 16:55:06.154213  treatment     new_page          0\n",
       "3   853541  2017-01-08 18:28:03.143765  treatment     new_page          0\n",
       "4   864975  2017-01-21 01:52:26.210827    control     old_page          1"
      ]
     },
     "execution_count": 4,
     "metadata": {},
     "output_type": "execute_result"
    }
   ],
   "source": [
    "df1.head()"
   ]
  },
  {
   "cell_type": "code",
   "execution_count": 5,
   "id": "e2c5a30f-62be-42ed-a74e-47b63c5348ab",
   "metadata": {},
   "outputs": [],
   "source": [
    "# We won't be using the time in this analysis, so we'll drop it.\n",
    "df1 = df1.drop(columns=[\"timestamp\"])"
   ]
  },
  {
   "cell_type": "code",
   "execution_count": 6,
   "id": "08382cb7-6f7e-414d-bf6e-599b0477f086",
   "metadata": {},
   "outputs": [
    {
     "data": {
      "text/html": [
       "<div>\n",
       "<style scoped>\n",
       "    .dataframe tbody tr th:only-of-type {\n",
       "        vertical-align: middle;\n",
       "    }\n",
       "\n",
       "    .dataframe tbody tr th {\n",
       "        vertical-align: top;\n",
       "    }\n",
       "\n",
       "    .dataframe thead th {\n",
       "        text-align: right;\n",
       "    }\n",
       "</style>\n",
       "<table border=\"1\" class=\"dataframe\">\n",
       "  <thead>\n",
       "    <tr style=\"text-align: right;\">\n",
       "      <th></th>\n",
       "      <th></th>\n",
       "      <th>user_id</th>\n",
       "      <th>converted</th>\n",
       "    </tr>\n",
       "    <tr>\n",
       "      <th>group</th>\n",
       "      <th>landing_page</th>\n",
       "      <th></th>\n",
       "      <th></th>\n",
       "    </tr>\n",
       "  </thead>\n",
       "  <tbody>\n",
       "    <tr>\n",
       "      <th rowspan=\"2\" valign=\"top\">control</th>\n",
       "      <th>new_page</th>\n",
       "      <td>1928</td>\n",
       "      <td>1928</td>\n",
       "    </tr>\n",
       "    <tr>\n",
       "      <th>old_page</th>\n",
       "      <td>145274</td>\n",
       "      <td>145274</td>\n",
       "    </tr>\n",
       "    <tr>\n",
       "      <th rowspan=\"2\" valign=\"top\">treatment</th>\n",
       "      <th>new_page</th>\n",
       "      <td>145311</td>\n",
       "      <td>145311</td>\n",
       "    </tr>\n",
       "    <tr>\n",
       "      <th>old_page</th>\n",
       "      <td>1965</td>\n",
       "      <td>1965</td>\n",
       "    </tr>\n",
       "  </tbody>\n",
       "</table>\n",
       "</div>"
      ],
      "text/plain": [
       "                        user_id  converted\n",
       "group     landing_page                    \n",
       "control   new_page         1928       1928\n",
       "          old_page       145274     145274\n",
       "treatment new_page       145311     145311\n",
       "          old_page         1965       1965"
      ]
     },
     "execution_count": 6,
     "metadata": {},
     "output_type": "execute_result"
    }
   ],
   "source": [
    "df1.groupby([\"group\", \"landing_page\"]).count()"
   ]
  },
  {
   "cell_type": "markdown",
   "id": "c49cbf26-04fc-41c5-8c95-a948263ddf9f",
   "metadata": {},
   "source": [
    "There are some users in the control group with the new page and vice-versa, we'll remove them."
   ]
  },
  {
   "cell_type": "code",
   "execution_count": 7,
   "id": "ad8443e6-b8ad-4b76-b368-094fb3ad18f5",
   "metadata": {},
   "outputs": [],
   "source": [
    "df2 = df1.loc[((df1[\"group\"] == \"control\") & (df1[\"landing_page\"] == \"old_page\")) | ((df1[\"group\"] == \"treatment\") & (df1[\"landing_page\"] == \"new_page\")) ]"
   ]
  },
  {
   "cell_type": "code",
   "execution_count": 8,
   "id": "fc6085fc-c779-4125-9e89-c6747811c501",
   "metadata": {},
   "outputs": [
    {
     "data": {
      "text/html": [
       "<div>\n",
       "<style scoped>\n",
       "    .dataframe tbody tr th:only-of-type {\n",
       "        vertical-align: middle;\n",
       "    }\n",
       "\n",
       "    .dataframe tbody tr th {\n",
       "        vertical-align: top;\n",
       "    }\n",
       "\n",
       "    .dataframe thead th {\n",
       "        text-align: right;\n",
       "    }\n",
       "</style>\n",
       "<table border=\"1\" class=\"dataframe\">\n",
       "  <thead>\n",
       "    <tr style=\"text-align: right;\">\n",
       "      <th></th>\n",
       "      <th></th>\n",
       "      <th>user_id</th>\n",
       "      <th>converted</th>\n",
       "    </tr>\n",
       "    <tr>\n",
       "      <th>group</th>\n",
       "      <th>landing_page</th>\n",
       "      <th></th>\n",
       "      <th></th>\n",
       "    </tr>\n",
       "  </thead>\n",
       "  <tbody>\n",
       "    <tr>\n",
       "      <th>control</th>\n",
       "      <th>old_page</th>\n",
       "      <td>145274</td>\n",
       "      <td>145274</td>\n",
       "    </tr>\n",
       "    <tr>\n",
       "      <th>treatment</th>\n",
       "      <th>new_page</th>\n",
       "      <td>145311</td>\n",
       "      <td>145311</td>\n",
       "    </tr>\n",
       "  </tbody>\n",
       "</table>\n",
       "</div>"
      ],
      "text/plain": [
       "                        user_id  converted\n",
       "group     landing_page                    \n",
       "control   old_page       145274     145274\n",
       "treatment new_page       145311     145311"
      ]
     },
     "execution_count": 8,
     "metadata": {},
     "output_type": "execute_result"
    }
   ],
   "source": [
    "df2.groupby([\"group\", \"landing_page\"]).count()"
   ]
  },
  {
   "cell_type": "markdown",
   "id": "d2606f14-3896-4169-969e-c9dec514b09a",
   "metadata": {},
   "source": [
    "## Effect Size and Power Calculation"
   ]
  },
  {
   "cell_type": "markdown",
   "id": "b28c27b1-43e1-4a42-873e-004bb740575d",
   "metadata": {},
   "source": [
    "We have over 145,000 datapoints for each webpage, that's plenty of data. Collecting this amount of data for an e-commerce website could take a long time and be expensive if it fails. For an hypothetical, we could calculate the minimum amount of data to collect in order to detect the desired effect of increased conversion. For that, we'll calculate the effect size and perform a power calculation to find the numbers."
   ]
  },
  {
   "cell_type": "code",
   "execution_count": 9,
   "id": "d4cc2e2e-81e2-4d28-aa62-28f619c28bab",
   "metadata": {},
   "outputs": [
    {
     "name": "stdout",
     "output_type": "stream",
     "text": [
      "The effect size is -0.0576728617308947\n"
     ]
    }
   ],
   "source": [
    "eff_size = sms.proportion_effectsize(0.13, 0.15)\n",
    "print(f\"The effect size is {eff_size}\")"
   ]
  },
  {
   "cell_type": "code",
   "execution_count": 10,
   "id": "cd711eef-b7d6-41e4-ad63-433bb1196d5f",
   "metadata": {},
   "outputs": [
    {
     "name": "stdout",
     "output_type": "stream",
     "text": [
      "The number of observations needed to find the effect size is 4720\n"
     ]
    }
   ],
   "source": [
    "nobs = sms.NormalIndPower().solve_power(effect_size=eff_size, alpha=0.05, power=0.8)\n",
    "nobs = ceil(nobs)\n",
    "print(f\"The number of observations needed to find the effect size is {nobs}\")"
   ]
  },
  {
   "cell_type": "markdown",
   "id": "e9e437dc-55f5-4ae0-9027-b0344aba28ed",
   "metadata": {},
   "source": [
    "Therefore, with 4720 observations, there's an 80% chance of observing the effect, if it exists."
   ]
  },
  {
   "cell_type": "markdown",
   "id": "f50653c3-5333-41a1-9d2b-4c29fef59fdb",
   "metadata": {},
   "source": [
    "## Hypothesis Testing"
   ]
  },
  {
   "cell_type": "markdown",
   "id": "1d105556-196b-4ed4-a21f-260a19d6082b",
   "metadata": {},
   "source": [
    "For the sake of the exercise, we'll use a sample of 4720 observations from each group, the minimum established in the last step."
   ]
  },
  {
   "cell_type": "code",
   "execution_count": 11,
   "id": "c7d0b93e-0925-4e25-b71f-5a121d19ed41",
   "metadata": {},
   "outputs": [],
   "source": [
    "control_df = df2[df2[\"group\"] == \"control\"].sample(n=nobs, random_state=1)\n",
    "treatment_df = df2[df2[\"group\"] == \"treatment\"].sample(n=nobs, random_state=1)\n",
    "\n",
    "df_test = pd.concat ([control_df, treatment_df], axis=0)"
   ]
  },
  {
   "cell_type": "code",
   "execution_count": 12,
   "id": "9571e11a-a388-4019-90f6-d0951b055dd1",
   "metadata": {},
   "outputs": [
    {
     "data": {
      "text/plain": [
       "group\n",
       "control      0.118644\n",
       "treatment    0.111441\n",
       "Name: converted, dtype: float64"
      ]
     },
     "execution_count": 12,
     "metadata": {},
     "output_type": "execute_result"
    }
   ],
   "source": [
    "df_test.groupby(\"group\")[\"converted\"].mean()"
   ]
  },
  {
   "cell_type": "markdown",
   "id": "ca4dbc98-09fd-4c4f-b10a-d5da26396a43",
   "metadata": {},
   "source": [
    "Uh oh. It looks like the treatment group has in fact a *lower* conversion rate than the control. That pretty much rules out the desired effect of increased sales, but we'll run the test anyway. Maybe it turns out the decrease effect is statistically significant."
   ]
  },
  {
   "cell_type": "code",
   "execution_count": 13,
   "id": "72049d48-59cb-49ce-82b0-c7066c26f4e1",
   "metadata": {},
   "outputs": [],
   "source": [
    "count_list = [control_df[\"converted\"].sum(), treatment_df[\"converted\"].sum()]\n",
    "nobs_list = [len(control_df), len(treatment_df)]"
   ]
  },
  {
   "cell_type": "code",
   "execution_count": 14,
   "id": "de299764-7a57-4033-b442-e64f31fd1d80",
   "metadata": {},
   "outputs": [],
   "source": [
    "z_stat, p_val = sms.proportions_ztest(count=count_list, nobs=nobs_list)"
   ]
  },
  {
   "cell_type": "code",
   "execution_count": 15,
   "id": "359170f2-4ba5-4973-aeaf-591e7bae2da3",
   "metadata": {},
   "outputs": [
    {
     "name": "stdout",
     "output_type": "stream",
     "text": [
      "The Z Statistic is 1.10 and the p-value is 0.273\n"
     ]
    }
   ],
   "source": [
    "print(f\"The Z Statistic is {z_stat:.2f} and the p-value is {p_val:.3f}\")"
   ]
  },
  {
   "cell_type": "markdown",
   "id": "3b949af5-267a-4fec-a6c0-83e4792d99f9",
   "metadata": {},
   "source": [
    "## Conclusion"
   ]
  },
  {
   "cell_type": "markdown",
   "id": "5b635243-bb31-4859-9dfb-815f2b090cd9",
   "metadata": {},
   "source": [
    "According to our test, the result is negative: the new webpage design didn't improve the conversion rate of the website, although at least there isn't enough evidence that it hurt conversion rates either. The p-value found, much above the set target 0.05, shows evidence for the null hypothesis that the two webpage designs are not significantly different in terms of conversion."
   ]
  },
  {
   "cell_type": "markdown",
   "id": "72bc593f-be28-416d-87db-3e350fbb7f7e",
   "metadata": {},
   "source": [
    "# Test 2: Sales Figures"
   ]
  },
  {
   "cell_type": "markdown",
   "id": "9d68b526-b1bb-4e13-9686-04f13e0ffc19",
   "metadata": {},
   "source": [
    "For this test, we'll be working on another e-commerce website. Instead of conversion rate, the goal is maximizing total amount spent and number of items bought.\n",
    "\n",
    "As part of the exercise, we'll assume the website had an average of $1800 in sales per customer, and the desired effect was an increase of 1%."
   ]
  },
  {
   "cell_type": "markdown",
   "id": "5af3434a-9d77-471a-aa45-4094b0226854",
   "metadata": {},
   "source": [
    "## Data Preparation"
   ]
  },
  {
   "cell_type": "code",
   "execution_count": 16,
   "id": "b3f7487a-8cee-4330-8c2a-deccb04eae0d",
   "metadata": {},
   "outputs": [],
   "source": [
    "df3 = pd.read_csv(\"data/ab_testing.csv\")"
   ]
  },
  {
   "cell_type": "code",
   "execution_count": 81,
   "id": "6a3f0c94-3603-494a-9b63-becfd4ac2a7a",
   "metadata": {},
   "outputs": [
    {
     "data": {
      "text/html": [
       "<div>\n",
       "<style scoped>\n",
       "    .dataframe tbody tr th:only-of-type {\n",
       "        vertical-align: middle;\n",
       "    }\n",
       "\n",
       "    .dataframe tbody tr th {\n",
       "        vertical-align: top;\n",
       "    }\n",
       "\n",
       "    .dataframe thead th {\n",
       "        text-align: right;\n",
       "    }\n",
       "</style>\n",
       "<table border=\"1\" class=\"dataframe\">\n",
       "  <thead>\n",
       "    <tr style=\"text-align: right;\">\n",
       "      <th></th>\n",
       "      <th>uid</th>\n",
       "      <th>spent</th>\n",
       "      <th>purchases</th>\n",
       "      <th>date</th>\n",
       "      <th>group</th>\n",
       "    </tr>\n",
       "  </thead>\n",
       "  <tbody>\n",
       "    <tr>\n",
       "      <th>0</th>\n",
       "      <td>11115722</td>\n",
       "      <td>1595</td>\n",
       "      <td>5</td>\n",
       "      <td>2016-03-08</td>\n",
       "      <td>GRP B</td>\n",
       "    </tr>\n",
       "    <tr>\n",
       "      <th>1</th>\n",
       "      <td>11122053</td>\n",
       "      <td>498</td>\n",
       "      <td>2</td>\n",
       "      <td>2017-07-14</td>\n",
       "      <td>GRP B</td>\n",
       "    </tr>\n",
       "    <tr>\n",
       "      <th>2</th>\n",
       "      <td>11128688</td>\n",
       "      <td>2394</td>\n",
       "      <td>6</td>\n",
       "      <td>2017-09-17</td>\n",
       "      <td>GRP A</td>\n",
       "    </tr>\n",
       "    <tr>\n",
       "      <th>3</th>\n",
       "      <td>11130578</td>\n",
       "      <td>1197</td>\n",
       "      <td>3</td>\n",
       "      <td>2017-11-30</td>\n",
       "      <td>GRP A</td>\n",
       "    </tr>\n",
       "    <tr>\n",
       "      <th>4</th>\n",
       "      <td>11130759</td>\n",
       "      <td>1297</td>\n",
       "      <td>3</td>\n",
       "      <td>2018-01-10</td>\n",
       "      <td>GRP B</td>\n",
       "    </tr>\n",
       "  </tbody>\n",
       "</table>\n",
       "</div>"
      ],
      "text/plain": [
       "        uid  spent  purchases        date  group\n",
       "0  11115722   1595          5  2016-03-08  GRP B\n",
       "1  11122053    498          2  2017-07-14  GRP B\n",
       "2  11128688   2394          6  2017-09-17  GRP A\n",
       "3  11130578   1197          3  2017-11-30  GRP A\n",
       "4  11130759   1297          3  2018-01-10  GRP B"
      ]
     },
     "execution_count": 81,
     "metadata": {},
     "output_type": "execute_result"
    }
   ],
   "source": [
    "df3.head()"
   ]
  },
  {
   "cell_type": "markdown",
   "id": "1bcb8a43-9a0c-47d5-b172-6347e1c377a1",
   "metadata": {},
   "source": [
    "We won't be taking the country, gender or device for the purpose of this test, so the columns will be dropped."
   ]
  },
  {
   "cell_type": "code",
   "execution_count": 18,
   "id": "9a704a54-b815-4656-b353-0bcb21d22a3f",
   "metadata": {},
   "outputs": [],
   "source": [
    "df3 = df3.drop(columns=[\"country\", \"gender\", \"device\"])"
   ]
  },
  {
   "cell_type": "code",
   "execution_count": 75,
   "id": "50935290-2930-4ca6-9727-eb76ac4d6d3a",
   "metadata": {},
   "outputs": [
    {
     "data": {
      "text/plain": [
       "(array([ 13.,  43., 145., 231., 271., 196.,  76.,  21.,   2.,   2.]),\n",
       " array([1756.637 , 1786.8511, 1817.0652, 1847.2793, 1877.4934, 1907.7075,\n",
       "        1937.9216, 1968.1357, 1998.3498, 2028.5639, 2058.778 ]),\n",
       " <BarContainer object of 10 artists>)"
      ]
     },
     "execution_count": 75,
     "metadata": {},
     "output_type": "execute_result"
    },
    {
     "data": {
      "image/png": "[encoded data removed]",
      "text/plain": [
       "<Figure size 432x288 with 1 Axes>"
      ]
     },
     "metadata": {},
     "output_type": "display_data"
    }
   ],
   "source": [
    "length = 1000\n",
    "arr = np.zeros(length)\n",
    "for i in range(length):\n",
    "    num = df3[\"spent\"].sample(1000).mean()\n",
    "    arr[i] = num\n",
    "    \n",
    "plt.hist(arr)"
   ]
  },
  {
   "cell_type": "markdown",
   "id": "4c9c5980-e9a9-4730-9af5-5781a8e9f1b0",
   "metadata": {},
   "source": [
    "# Effect Size and Power Calculation"
   ]
  },
  {
   "cell_type": "markdown",
   "id": "5f6aefca-c59e-4a12-9c8f-fa2b99ac8ad1",
   "metadata": {},
   "source": [
    "For the exercise, the desired effect is an increase in sales from 1800 to 1818, or 1%. To find the minimum amount of samples necessary to find that effect, we'll perform a power calculation. We'll use the data from the group A to calculate the standard deviation."
   ]
  },
  {
   "cell_type": "code",
   "execution_count": 73,
   "id": "a5156570-92c3-48ff-811d-f26c3e00e51f",
   "metadata": {},
   "outputs": [
    {
     "name": "stdout",
     "output_type": "stream",
     "text": [
      "The standard deviation of the spent value is 1368.4\n",
      "The effect size is 0.013\n"
     ]
    }
   ],
   "source": [
    "std = df3[df3[\"group\"] == \"GRP A\"][\"spent\"].std()\n",
    "print(f\"The standard deviation of the spent value is {std:.1f}\")\n",
    "\n",
    "eff_size = 18/std\n",
    "print(f\"The effect size is {eff_size:.3f}\")"
   ]
  },
  {
   "cell_type": "markdown",
   "id": "46c5a27c-f6fb-4308-a16e-3b59694db70a",
   "metadata": {},
   "source": [
    "With the effect size, we'll calulate the needed number of observations, using a significance level of 0.05 and a power of 80%."
   ]
  },
  {
   "cell_type": "code",
   "execution_count": 82,
   "id": "d9df1405-8243-4569-88a8-6c20a5cc4a30",
   "metadata": {},
   "outputs": [
    {
     "name": "stdout",
     "output_type": "stream",
     "text": [
      "You would need 90725 observations to find the desired effect with the specified significance and power\n"
     ]
    }
   ],
   "source": [
    "nobs = ceil(sms.TTestIndPower().solve_power(effect_size=eff_size, power=0.8, alpha=0.05))\n",
    "print(f\"You would need {nobs} observations to find the desired effect with the specified significance and power\")"
   ]
  },
  {
   "cell_type": "code",
   "execution_count": null,
   "id": "c83aa22b-94bc-4d4b-8374-e185f3eace51",
   "metadata": {},
   "outputs": [],
   "source": []
  }
 ],
 "metadata": {
  "interpreter": {
   "hash": "37e822ef0832e027edd65ef5f54fbcdceec213a532c832b1ce69ae7fc62bb6c7"
  },
  "kernelspec": {
   "display_name": "Python 3 (ipykernel)",
   "language": "python",
   "name": "python3"
  },
  "language_info": {
   "codemirror_mode": {
    "name": "ipython",
    "version": 3
   },
   "file_extension": ".py",
   "mimetype": "text/x-python",
   "name": "python",
   "nbconvert_exporter": "python",
   "pygments_lexer": "ipython3",
   "version": "3.9.7"
  }
 },
 "nbformat": 4,
 "nbformat_minor": 5
}
